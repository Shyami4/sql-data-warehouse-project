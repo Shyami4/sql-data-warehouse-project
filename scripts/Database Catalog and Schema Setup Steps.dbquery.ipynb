{
 "cells": [
  {
   "cell_type": "code",
   "execution_count": 0,
   "metadata": {
    "application/vnd.databricks.v1+cell": {
     "cellMetadata": {
      "byteLimit": 10485760,
      "rowLimit": 1000
     },
     "inputWidgets": {},
     "nuid": "62119a48-04f9-4075-8e51-b0e2534e46cd",
     "showTitle": false,
     "tableResultSettingsMap": {},
     "title": ""
    }
   },
   "outputs": [],
   "source": [
    "/*\n",
    "=============================================================\n",
    "Create Database and Schemas\n",
    "=============================================================\n",
    "Script Purpose:\n",
    "    This script creates a new catalog named 'dataWarehouse' after checking if it already exists. \n",
    "    If the catalog exists, it is dropped and recreated. Additionally, the script sets up three schemas \n",
    "    within the catalog: 'bronze', 'silver', and 'gold'.\n",
    "    \n",
    "    Finally, it creates a managed Volume named 'landing' under the 'bronze' schema\n",
    "    for staging raw files (path: /Volumes/dataWarehouse/bronze/landing).\n",
    "\t\n",
    "WARNING:\n",
    "    Running this script will drop the entire 'dataWarehouse' catalog if it exists. \n",
    "    All data in the catalog will be permanently deleted. Proceed with caution \n",
    "    and ensure you have proper backups before running this script.\n",
    "*/\n",
    "\n",
    "-- Drop and recreate the 'dataWarehouse' catalog\n",
    "DROP CATALOG IF EXISTS datawarehouse CASCADE;\n",
    "\n",
    "-- Create the 'dataWarehouse' database\n",
    "CREATE CATALOG datawarehouse;\n",
    "USE CATALOG datawarehouse;\n",
    "\n",
    "-- Create Schemas\n",
    "CREATE SCHEMA IF NOT EXISTS bronze;\n",
    "CREATE SCHEMA IF NOT EXISTS silver;\n",
    "CREATE SCHEMA IF NOT EXISTS gold;\n",
    "\n",
    "-- Creates /Volumes/datawarehouse/bronze/landing\n",
    "USE CATALOG datawarehouse;\n",
    "CREATE VOLUME IF NOT EXISTS bronze.landing;"
   ]
  }
 ],
 "metadata": {
  "application/vnd.databricks.v1+notebook": {
   "computePreferences": null,
   "dashboards": [],
   "environmentMetadata": null,
   "inputWidgetPreferences": null,
   "language": "sql",
   "notebookMetadata": {
    "pythonIndentUnit": 4,
    "sqlQueryOptions": {
     "applyAutoLimit": true,
     "catalog": "workspace",
     "schema": "default"
    }
   },
   "notebookName": "Database Catalog and Schema Setup Steps.dbquery.ipynb",
   "widgets": {}
  },
  "language_info": {
   "name": "sql"
  }
 },
 "nbformat": 4,
 "nbformat_minor": 0
}
